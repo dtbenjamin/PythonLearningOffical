{
 "cells": [
  {
   "cell_type": "code",
   "execution_count": null,
   "id": "c866efd0-2c12-4ea6-aadf-53e869ef7b8c",
   "metadata": {},
   "outputs": [],
   "source": []
  },
  {
   "cell_type": "code",
   "execution_count": 1,
   "id": "89c34f15-b53a-464b-addd-3fe33d3d506a",
   "metadata": {},
   "outputs": [
    {
     "name": "stdout",
     "output_type": "stream",
     "text": [
      "Requirement already satisfied: pandas in c:\\users\\benjamid\\appdata\\local\\anaconda3\\lib\\site-packages (2.1.4)\n",
      "Requirement already satisfied: numpy<2,>=1.23.2 in c:\\users\\benjamid\\appdata\\local\\anaconda3\\lib\\site-packages (from pandas) (1.26.4)\n",
      "Requirement already satisfied: python-dateutil>=2.8.2 in c:\\users\\benjamid\\appdata\\local\\anaconda3\\lib\\site-packages (from pandas) (2.8.2)\n",
      "Requirement already satisfied: pytz>=2020.1 in c:\\users\\benjamid\\appdata\\local\\anaconda3\\lib\\site-packages (from pandas) (2023.3.post1)\n",
      "Requirement already satisfied: tzdata>=2022.1 in c:\\users\\benjamid\\appdata\\local\\anaconda3\\lib\\site-packages (from pandas) (2023.3)\n",
      "Requirement already satisfied: six>=1.5 in c:\\users\\benjamid\\appdata\\local\\anaconda3\\lib\\site-packages (from python-dateutil>=2.8.2->pandas) (1.16.0)\n",
      "Note: you may need to restart the kernel to use updated packages.\n"
     ]
    }
   ],
   "source": [
    "pip install pandas"
   ]
  },
  {
   "cell_type": "code",
   "execution_count": 12,
   "id": "ab177bd2-cc56-42ae-9d3b-633bdeb18afd",
   "metadata": {},
   "outputs": [
    {
     "name": "stdout",
     "output_type": "stream",
     "text": [
      "      Name   Age  Revenue Customer_Type\n",
      "0    Alice  25.0    500.0           New\n",
      "1      Bob  30.0      NaN     Returning\n",
      "2  Charlie   NaN    800.0           New\n",
      "3    David  35.0   1000.0     Returning\n",
      "4      Eve  29.0      NaN     Returning\n"
     ]
    }
   ],
   "source": [
    "import pandas as pd \n",
    "\n",
    "# Load the data into DataFrame\n",
    "df = pd.read_csv(r'C:\\Users\\BenjamiD\\OneDrive - RSandH\\Documents\\Technical Advancement\\Python\\sample_data.csv')\n",
    "\n",
    "# Display the first few rows of dataset\n",
    "print(df.head())\n"
   ]
  },
  {
   "cell_type": "code",
   "execution_count": 19,
   "id": "55252b37-34cb-47f7-a6a8-42d3e29b15a7",
   "metadata": {},
   "outputs": [
    {
     "name": "stdout",
     "output_type": "stream",
     "text": [
      "(5, 4)\n",
      "Index(['Name', 'Age', 'Revenue', 'Customer_Type'], dtype='object')\n",
      "             Age      Revenue\n",
      "count   4.000000     3.000000\n",
      "mean   29.750000   766.666667\n",
      "std     4.112988   251.661148\n",
      "min    25.000000   500.000000\n",
      "25%    28.000000   650.000000\n",
      "50%    29.500000   800.000000\n",
      "75%    31.250000   900.000000\n",
      "max    35.000000  1000.000000\n",
      "Name             0\n",
      "Age              1\n",
      "Revenue          2\n",
      "Customer_Type    0\n",
      "dtype: int64\n"
     ]
    }
   ],
   "source": [
    "#Check the shape of the dataset (rows, columns)\n",
    "print(df.shape)\n",
    "\n",
    "#View the columns in the dataset\n",
    "print(df.columns)\n",
    "\n",
    "#Get summary satistics for numerical columns -- quick statistical summary (like mean, min, max, etc.) for numeric columns.\n",
    "print(df.describe())\n",
    "\n",
    "#Check for missing values\n",
    "print(df.isnull().sum())"
   ]
  },
  {
   "cell_type": "code",
   "execution_count": 21,
   "id": "0c158d5a-b725-49ad-b37a-43c4d01a4b8f",
   "metadata": {},
   "outputs": [],
   "source": [
    "#Handing Missing Values"
   ]
  },
  {
   "cell_type": "code",
   "execution_count": 23,
   "id": "80f91e4c-eb87-424e-91db-ca13a82a8a74",
   "metadata": {},
   "outputs": [
    {
     "name": "stdout",
     "output_type": "stream",
     "text": [
      "    Name   Age  Revenue Customer_Type\n",
      "0  Alice  25.0    500.0           New\n",
      "3  David  35.0   1000.0     Returning\n"
     ]
    }
   ],
   "source": [
    "#Option 1: Remove Rows with Missing Values\n",
    "df_cleaned = df.dropna()\n",
    "print(df_cleaned)"
   ]
  },
  {
   "cell_type": "code",
   "execution_count": 24,
   "id": "d8d096ed-3f04-4740-b9b4-99130779bc32",
   "metadata": {},
   "outputs": [
    {
     "name": "stdout",
     "output_type": "stream",
     "text": [
      "      Name   Age  Revenue Customer_Type\n",
      "0    Alice  25.0    500.0           New\n",
      "1      Bob  30.0      0.0     Returning\n",
      "2  Charlie   0.0    800.0           New\n",
      "3    David  35.0   1000.0     Returning\n",
      "4      Eve  29.0      0.0     Returning\n"
     ]
    }
   ],
   "source": [
    "#Option 2: Fill Missing Values with Default Values\n",
    "df_filled = df.fillna(0)\n",
    "print(df_filled)"
   ]
  },
  {
   "cell_type": "code",
   "execution_count": 25,
   "id": "0ce2defa-45be-4bb7-8317-5400a233e113",
   "metadata": {},
   "outputs": [
    {
     "name": "stdout",
     "output_type": "stream",
     "text": [
      "      Name   Age      Revenue Customer_Type\n",
      "0    Alice  25.0   500.000000           New\n",
      "1      Bob  30.0   766.666667     Returning\n",
      "2  Charlie   NaN   800.000000           New\n",
      "3    David  35.0  1000.000000     Returning\n",
      "4      Eve  29.0   766.666667     Returning\n"
     ]
    }
   ],
   "source": [
    "#Option 3: Fill with Column Mean\n",
    "df['Revenue'] = df['Revenue'].fillna(df['Revenue'].mean())\n",
    "print(df)"
   ]
  },
  {
   "cell_type": "code",
   "execution_count": 28,
   "id": "8ec85e50-1785-4513-9e72-f331a2736d68",
   "metadata": {},
   "outputs": [
    {
     "name": "stdout",
     "output_type": "stream",
     "text": [
      "      Name    Age  Total_Revenue Type_of_Customer\n",
      "0    Alice  25.00     500.000000              New\n",
      "1      Bob  30.00     766.666667        Returning\n",
      "2  Charlie  29.75     800.000000              New\n",
      "3    David  35.00    1000.000000        Returning\n",
      "4      Eve  29.00     766.666667        Returning\n"
     ]
    }
   ],
   "source": [
    "#Option 3: Fill with Column Mean\n",
    "df['Age'] = df['Age'].fillna(df['Age'].mean())\n",
    "print(df)"
   ]
  },
  {
   "cell_type": "code",
   "execution_count": 29,
   "id": "daa7b563-d63d-4a50-945c-da89bdc3df64",
   "metadata": {},
   "outputs": [
    {
     "name": "stdout",
     "output_type": "stream",
     "text": [
      "      Name    Age  Total_Revenue Type_of_Customer\n",
      "0    Alice  25.00     500.000000              New\n",
      "1      Bob  30.00     766.666667        Returning\n",
      "2  Charlie  29.75     800.000000              New\n",
      "3    David  35.00    1000.000000        Returning\n",
      "4      Eve  29.00     766.666667        Returning\n"
     ]
    }
   ],
   "source": [
    "#Renamed Columns\n",
    "df = df.rename(columns={'Revenue': 'Total_Revenue', 'Customer_Type': 'Type_of_Customer'})\n",
    "print(df.head())\n"
   ]
  },
  {
   "cell_type": "code",
   "execution_count": 31,
   "id": "7c4ec4d5-e89f-49dd-83b1-772c5cbf1cf4",
   "metadata": {},
   "outputs": [
    {
     "name": "stdout",
     "output_type": "stream",
     "text": [
      "    Name   Age  Total_Revenue Type_of_Customer\n",
      "3  David  35.0         1000.0        Returning\n"
     ]
    }
   ],
   "source": [
    "# Filter rows where 'Age' is greater than 30\n",
    "filtered_df = df[df['Age'] > 30]\n",
    "print(filtered_df)"
   ]
  },
  {
   "cell_type": "code",
   "execution_count": 33,
   "id": "2067e0ae-5051-4358-84d6-d05e53c699be",
   "metadata": {},
   "outputs": [
    {
     "name": "stdout",
     "output_type": "stream",
     "text": [
      "      Name    Age  Total_Revenue Type_of_Customer\n",
      "3    David  35.00    1000.000000        Returning\n",
      "2  Charlie  29.75     800.000000              New\n",
      "1      Bob  30.00     766.666667        Returning\n",
      "4      Eve  29.00     766.666667        Returning\n",
      "0    Alice  25.00     500.000000              New\n"
     ]
    }
   ],
   "source": [
    "# Sort by 'Total_Revenue' in descending order\n",
    "df_sorted = df.sort_values(by='Total_Revenue', ascending=False)\n",
    "print(df_sorted)"
   ]
  },
  {
   "cell_type": "code",
   "execution_count": 36,
   "id": "61264f00-46ba-4c6b-9127-e2fc45d3e54d",
   "metadata": {},
   "outputs": [],
   "source": [
    "#Save the cleaned\n",
    "df.to_csv('cleaned_data.csv', index=False)"
   ]
  },
  {
   "cell_type": "code",
   "execution_count": 38,
   "id": "f7a4c3e7-c539-4f65-8cde-b0308d30d50a",
   "metadata": {},
   "outputs": [
    {
     "data": {
      "text/plain": [
       "'\\nLoaded and inspected the data.\\nHandled missing values.\\nRenamed columns for clarity.\\nFiltered and sorted data.\\n'"
      ]
     },
     "execution_count": 38,
     "metadata": {},
     "output_type": "execute_result"
    }
   ],
   "source": [
    "'''\n",
    "Loaded and inspected the data.\n",
    "Handled missing values.\n",
    "Renamed columns for clarity.\n",
    "Filtered and sorted data.\n",
    "\n",
    "In the next section, we’ll focus on merging datasets and grouping data. \n",
    "We’ll explore how to combine multiple tables (like SQL joins) \n",
    "and perform group operations to calculate metrics.\n",
    "'''"
   ]
  },
  {
   "cell_type": "code",
   "execution_count": null,
   "id": "7bedb1fc-5332-4a79-80d6-6eef056a2436",
   "metadata": {},
   "outputs": [],
   "source": []
  },
  {
   "cell_type": "code",
   "execution_count": null,
   "id": "497ac63f-43fe-486e-838a-5293da4ccb09",
   "metadata": {},
   "outputs": [],
   "source": []
  }
 ],
 "metadata": {
  "kernelspec": {
   "display_name": "Python 3 (ipykernel)",
   "language": "python",
   "name": "python3"
  },
  "language_info": {
   "codemirror_mode": {
    "name": "ipython",
    "version": 3
   },
   "file_extension": ".py",
   "mimetype": "text/x-python",
   "name": "python",
   "nbconvert_exporter": "python",
   "pygments_lexer": "ipython3",
   "version": "3.11.7"
  }
 },
 "nbformat": 4,
 "nbformat_minor": 5
}
