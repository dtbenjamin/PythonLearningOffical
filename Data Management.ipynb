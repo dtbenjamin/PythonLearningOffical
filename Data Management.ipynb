{
 "cells": [
  {
   "cell_type": "code",
   "execution_count": null,
   "id": "c866efd0-2c12-4ea6-aadf-53e869ef7b8c",
   "metadata": {},
   "outputs": [],
   "source": [
    "#Section 2: Data Management"
   ]
  },
  {
   "cell_type": "code",
   "execution_count": 1,
   "id": "89c34f15-b53a-464b-addd-3fe33d3d506a",
   "metadata": {},
   "outputs": [
    {
     "name": "stdout",
     "output_type": "stream",
     "text": [
      "Requirement already satisfied: pandas in c:\\users\\benjamid\\appdata\\local\\anaconda3\\lib\\site-packages (2.1.4)\n",
      "Requirement already satisfied: numpy<2,>=1.23.2 in c:\\users\\benjamid\\appdata\\local\\anaconda3\\lib\\site-packages (from pandas) (1.26.4)\n",
      "Requirement already satisfied: python-dateutil>=2.8.2 in c:\\users\\benjamid\\appdata\\local\\anaconda3\\lib\\site-packages (from pandas) (2.8.2)\n",
      "Requirement already satisfied: pytz>=2020.1 in c:\\users\\benjamid\\appdata\\local\\anaconda3\\lib\\site-packages (from pandas) (2023.3.post1)\n",
      "Requirement already satisfied: tzdata>=2022.1 in c:\\users\\benjamid\\appdata\\local\\anaconda3\\lib\\site-packages (from pandas) (2023.3)\n",
      "Requirement already satisfied: six>=1.5 in c:\\users\\benjamid\\appdata\\local\\anaconda3\\lib\\site-packages (from python-dateutil>=2.8.2->pandas) (1.16.0)\n",
      "Note: you may need to restart the kernel to use updated packages.\n"
     ]
    }
   ],
   "source": [
    "pip install pandas"
   ]
  },
  {
   "cell_type": "code",
   "execution_count": 12,
   "id": "ab177bd2-cc56-42ae-9d3b-633bdeb18afd",
   "metadata": {},
   "outputs": [
    {
     "name": "stdout",
     "output_type": "stream",
     "text": [
      "      Name   Age  Revenue Customer_Type\n",
      "0    Alice  25.0    500.0           New\n",
      "1      Bob  30.0      NaN     Returning\n",
      "2  Charlie   NaN    800.0           New\n",
      "3    David  35.0   1000.0     Returning\n",
      "4      Eve  29.0      NaN     Returning\n"
     ]
    }
   ],
   "source": [
    "import pandas as pd \n",
    "\n",
    "# Load the data into DataFrame\n",
    "df = pd.read_csv(r'C:\\Users\\BenjamiD\\OneDrive - RSandH\\Documents\\Technical Advancement\\Python\\sample_data.csv')\n",
    "\n",
    "# Display the first few rows of dataset\n",
    "print(df.head())\n"
   ]
  },
  {
   "cell_type": "code",
   "execution_count": 19,
   "id": "55252b37-34cb-47f7-a6a8-42d3e29b15a7",
   "metadata": {},
   "outputs": [
    {
     "name": "stdout",
     "output_type": "stream",
     "text": [
      "(5, 4)\n",
      "Index(['Name', 'Age', 'Revenue', 'Customer_Type'], dtype='object')\n",
      "             Age      Revenue\n",
      "count   4.000000     3.000000\n",
      "mean   29.750000   766.666667\n",
      "std     4.112988   251.661148\n",
      "min    25.000000   500.000000\n",
      "25%    28.000000   650.000000\n",
      "50%    29.500000   800.000000\n",
      "75%    31.250000   900.000000\n",
      "max    35.000000  1000.000000\n",
      "Name             0\n",
      "Age              1\n",
      "Revenue          2\n",
      "Customer_Type    0\n",
      "dtype: int64\n"
     ]
    }
   ],
   "source": [
    "#Check the shape of the dataset (rows, columns)\n",
    "print(df.shape)\n",
    "\n",
    "#View the columns in the dataset\n",
    "print(df.columns)\n",
    "\n",
    "#Get summary satistics for numerical columns -- quick statistical summary (like mean, min, max, etc.) for numeric columns.\n",
    "print(df.describe())\n",
    "\n",
    "#Check for missing values\n",
    "print(df.isnull().sum())"
   ]
  },
  {
   "cell_type": "code",
   "execution_count": 21,
   "id": "0c158d5a-b725-49ad-b37a-43c4d01a4b8f",
   "metadata": {},
   "outputs": [],
   "source": [
    "#Handing Missing Values"
   ]
  },
  {
   "cell_type": "code",
   "execution_count": 23,
   "id": "80f91e4c-eb87-424e-91db-ca13a82a8a74",
   "metadata": {},
   "outputs": [
    {
     "name": "stdout",
     "output_type": "stream",
     "text": [
      "    Name   Age  Revenue Customer_Type\n",
      "0  Alice  25.0    500.0           New\n",
      "3  David  35.0   1000.0     Returning\n"
     ]
    }
   ],
   "source": [
    "#Option 1: Remove Rows with Missing Values\n",
    "df_cleaned = df.dropna()\n",
    "print(df_cleaned)"
   ]
  },
  {
   "cell_type": "code",
   "execution_count": 24,
   "id": "d8d096ed-3f04-4740-b9b4-99130779bc32",
   "metadata": {},
   "outputs": [
    {
     "name": "stdout",
     "output_type": "stream",
     "text": [
      "      Name   Age  Revenue Customer_Type\n",
      "0    Alice  25.0    500.0           New\n",
      "1      Bob  30.0      0.0     Returning\n",
      "2  Charlie   0.0    800.0           New\n",
      "3    David  35.0   1000.0     Returning\n",
      "4      Eve  29.0      0.0     Returning\n"
     ]
    }
   ],
   "source": [
    "#Option 2: Fill Missing Values with Default Values\n",
    "df_filled = df.fillna(0)\n",
    "print(df_filled)"
   ]
  },
  {
   "cell_type": "code",
   "execution_count": 25,
   "id": "0ce2defa-45be-4bb7-8317-5400a233e113",
   "metadata": {},
   "outputs": [
    {
     "name": "stdout",
     "output_type": "stream",
     "text": [
      "      Name   Age      Revenue Customer_Type\n",
      "0    Alice  25.0   500.000000           New\n",
      "1      Bob  30.0   766.666667     Returning\n",
      "2  Charlie   NaN   800.000000           New\n",
      "3    David  35.0  1000.000000     Returning\n",
      "4      Eve  29.0   766.666667     Returning\n"
     ]
    }
   ],
   "source": [
    "#Option 3: Fill with Column Mean\n",
    "df['Revenue'] = df['Revenue'].fillna(df['Revenue'].mean())\n",
    "print(df)"
   ]
  },
  {
   "cell_type": "code",
   "execution_count": 28,
   "id": "8ec85e50-1785-4513-9e72-f331a2736d68",
   "metadata": {},
   "outputs": [
    {
     "name": "stdout",
     "output_type": "stream",
     "text": [
      "      Name    Age  Total_Revenue Type_of_Customer\n",
      "0    Alice  25.00     500.000000              New\n",
      "1      Bob  30.00     766.666667        Returning\n",
      "2  Charlie  29.75     800.000000              New\n",
      "3    David  35.00    1000.000000        Returning\n",
      "4      Eve  29.00     766.666667        Returning\n"
     ]
    }
   ],
   "source": [
    "#Option 3: Fill with Column Mean\n",
    "df['Age'] = df['Age'].fillna(df['Age'].mean())\n",
    "print(df)"
   ]
  },
  {
   "cell_type": "code",
   "execution_count": 29,
   "id": "daa7b563-d63d-4a50-945c-da89bdc3df64",
   "metadata": {},
   "outputs": [
    {
     "name": "stdout",
     "output_type": "stream",
     "text": [
      "      Name    Age  Total_Revenue Type_of_Customer\n",
      "0    Alice  25.00     500.000000              New\n",
      "1      Bob  30.00     766.666667        Returning\n",
      "2  Charlie  29.75     800.000000              New\n",
      "3    David  35.00    1000.000000        Returning\n",
      "4      Eve  29.00     766.666667        Returning\n"
     ]
    }
   ],
   "source": [
    "#Renamed Columns\n",
    "df = df.rename(columns={'Revenue': 'Total_Revenue', 'Customer_Type': 'Type_of_Customer'})\n",
    "print(df.head())\n"
   ]
  },
  {
   "cell_type": "code",
   "execution_count": 31,
   "id": "7c4ec4d5-e89f-49dd-83b1-772c5cbf1cf4",
   "metadata": {},
   "outputs": [
    {
     "name": "stdout",
     "output_type": "stream",
     "text": [
      "    Name   Age  Total_Revenue Type_of_Customer\n",
      "3  David  35.0         1000.0        Returning\n"
     ]
    }
   ],
   "source": [
    "# Filter rows where 'Age' is greater than 30\n",
    "filtered_df = df[df['Age'] > 30]\n",
    "print(filtered_df)"
   ]
  },
  {
   "cell_type": "code",
   "execution_count": 33,
   "id": "2067e0ae-5051-4358-84d6-d05e53c699be",
   "metadata": {},
   "outputs": [
    {
     "name": "stdout",
     "output_type": "stream",
     "text": [
      "      Name    Age  Total_Revenue Type_of_Customer\n",
      "3    David  35.00    1000.000000        Returning\n",
      "2  Charlie  29.75     800.000000              New\n",
      "1      Bob  30.00     766.666667        Returning\n",
      "4      Eve  29.00     766.666667        Returning\n",
      "0    Alice  25.00     500.000000              New\n"
     ]
    }
   ],
   "source": [
    "# Sort by 'Total_Revenue' in descending order\n",
    "df_sorted = df.sort_values(by='Total_Revenue', ascending=False)\n",
    "print(df_sorted)"
   ]
  },
  {
   "cell_type": "code",
   "execution_count": 36,
   "id": "61264f00-46ba-4c6b-9127-e2fc45d3e54d",
   "metadata": {},
   "outputs": [],
   "source": [
    "#Save the cleaned\n",
    "df.to_csv('cleaned_data.csv', index=False)"
   ]
  },
  {
   "cell_type": "code",
   "execution_count": 38,
   "id": "f7a4c3e7-c539-4f65-8cde-b0308d30d50a",
   "metadata": {},
   "outputs": [
    {
     "data": {
      "text/plain": [
       "'\\nLoaded and inspected the data.\\nHandled missing values.\\nRenamed columns for clarity.\\nFiltered and sorted data.\\n'"
      ]
     },
     "execution_count": 38,
     "metadata": {},
     "output_type": "execute_result"
    }
   ],
   "source": [
    "'''\n",
    "Loaded and inspected the data.\n",
    "Handled missing values.\n",
    "Renamed columns for clarity.\n",
    "Filtered and sorted data.\n",
    "\n",
    "In the next section, we’ll focus on merging datasets and grouping data. \n",
    "We’ll explore how to combine multiple tables (like SQL joins) \n",
    "and perform group operations to calculate metrics.\n",
    "'''"
   ]
  },
  {
   "cell_type": "code",
   "execution_count": null,
   "id": "7b52282e-c6b4-4751-a88f-e762e64aba03",
   "metadata": {},
   "outputs": [],
   "source": []
  },
  {
   "cell_type": "code",
   "execution_count": null,
   "id": "c84d97ae-c526-46cc-b3c9-19ccce256c20",
   "metadata": {},
   "outputs": [],
   "source": []
  },
  {
   "cell_type": "code",
   "execution_count": 1,
   "id": "7bedb1fc-5332-4a79-80d6-6eef056a2436",
   "metadata": {},
   "outputs": [],
   "source": [
    "#Part 2.2: Merging Datasets (Similar to SQL Joins)"
   ]
  },
  {
   "cell_type": "code",
   "execution_count": 15,
   "id": "497ac63f-43fe-486e-838a-5293da4ccb09",
   "metadata": {},
   "outputs": [
    {
     "name": "stdout",
     "output_type": "stream",
     "text": [
      "   Customer_ID     Name  Age\n",
      "0            1    Alice   25\n",
      "1            2      Bob   30\n",
      "2            3  Charlie   22\n",
      "3            4    David   35\n",
      "   Customer_ID  Purchase_Amount\n",
      "0            1              200\n",
      "1            2              150\n",
      "2            2               50\n",
      "3            3              300\n",
      "4            5              400\n"
     ]
    }
   ],
   "source": [
    "import pandas as pd\n",
    "\n",
    "#First dataframe: Customer info\n",
    "df_customers = pd.DataFrame({\n",
    "    'Customer_ID': [1,2,3,4],\n",
    "    'Name' :  ['Alice', 'Bob', 'Charlie', 'David'],\n",
    "    'Age' : [25,30,22,35]\n",
    "})\n",
    "\n",
    "\n",
    "#Second DataFrame: Purchase info\n",
    "df_purchase = pd.DataFrame ({\n",
    "    'Customer_ID' : [1,2,2,3,5],\n",
    "    'Purchase_Amount' : [200,150,50,300,400]\n",
    "})\n",
    "\n",
    "print(df_customers)\n",
    "print(df_purchase)"
   ]
  },
  {
   "cell_type": "code",
   "execution_count": 16,
   "id": "8e15ffcd-06e9-4814-be91-91469061d841",
   "metadata": {},
   "outputs": [
    {
     "name": "stdout",
     "output_type": "stream",
     "text": [
      "   Customer_ID     Name  Age  Purchase_Amount\n",
      "0            1    Alice   25              200\n",
      "1            2      Bob   30              150\n",
      "2            2      Bob   30               50\n",
      "3            3  Charlie   22              300\n"
     ]
    }
   ],
   "source": [
    "#Merge the DataFrames\n",
    "df_merged = pd.merge(df_customers, df_purchase, on='Customer_ID', how='inner')\n",
    "print(df_merged)"
   ]
  },
  {
   "cell_type": "code",
   "execution_count": 32,
   "id": "d659cd34-1d57-49c2-b253-68c7854bc303",
   "metadata": {},
   "outputs": [],
   "source": [
    "#Different joins types are :how= left, right, outer"
   ]
  },
  {
   "cell_type": "code",
   "execution_count": null,
   "id": "bd526003-2ddd-40f0-b86f-0890f0222e55",
   "metadata": {},
   "outputs": [],
   "source": []
  },
  {
   "cell_type": "code",
   "execution_count": null,
   "id": "65894cc8-e729-4d7d-be0a-c4b1e770d891",
   "metadata": {},
   "outputs": [],
   "source": []
  },
  {
   "cell_type": "code",
   "execution_count": 33,
   "id": "d14d8017-d02b-4b9a-8ed5-fd2fb8ca0786",
   "metadata": {},
   "outputs": [],
   "source": [
    "#Part 2.3: Grouping Data and Aggregation"
   ]
  },
  {
   "cell_type": "code",
   "execution_count": 21,
   "id": "4c61ef0b-ec67-4768-b2e3-47cbe099fe32",
   "metadata": {},
   "outputs": [
    {
     "name": "stdout",
     "output_type": "stream",
     "text": [
      "      Name  Purchase_Amount\n",
      "0    Alice              200\n",
      "1      Bob              200\n",
      "2  Charlie              300\n"
     ]
    }
   ],
   "source": [
    "# Group by Customer Name and sum the Purchase_Amount\n",
    "df_grouped = df_merged.groupby('Name')['Purchase_Amount'].sum().reset_index()\n",
    "print(df_grouped)\n",
    "\n",
    "\n",
    "#groupby() groups the data by a specific column (in this case, Name).\n",
    "#sum() calculates the total purchase amount for each customer.\n"
   ]
  },
  {
   "cell_type": "code",
   "execution_count": 28,
   "id": "e17f5a19-9e64-41f5-85e4-6b5bb9a05c7e",
   "metadata": {},
   "outputs": [],
   "source": [
    "#More Aggregation Examples: mean(), count()"
   ]
  },
  {
   "cell_type": "code",
   "execution_count": null,
   "id": "cbb92835-d526-4565-87f8-9edeed8c7d6c",
   "metadata": {},
   "outputs": [],
   "source": []
  },
  {
   "cell_type": "code",
   "execution_count": null,
   "id": "dacd9802-19bd-40be-b985-a327837842a7",
   "metadata": {},
   "outputs": [],
   "source": []
  },
  {
   "cell_type": "code",
   "execution_count": null,
   "id": "428cc87e-3b87-4848-ac57-82b394a536e4",
   "metadata": {},
   "outputs": [],
   "source": [
    "#Part 2.4: Data Transformation"
   ]
  },
  {
   "cell_type": "code",
   "execution_count": 29,
   "id": "4ba5849f-9d74-475f-8b67-496f2096ac06",
   "metadata": {},
   "outputs": [
    {
     "name": "stdout",
     "output_type": "stream",
     "text": [
      "   Customer_ID     Name  Age  Purchase_Amount  Discounted_Price Age_Group\n",
      "0            1    Alice   25              200             180.0     Young\n",
      "1            2      Bob   30              150             135.0     Adult\n",
      "2            2      Bob   30               50              45.0     Adult\n",
      "3            3  Charlie   22              300             270.0     Young\n"
     ]
    }
   ],
   "source": [
    "#Create a discounted price column by applying a 10% discount to the Purchase_Amount.\n",
    "\n",
    "df_merged['Discounted_Price'] = df_merged['Purchase_Amount'] * 0.9\n",
    "print(df_merged)\n"
   ]
  },
  {
   "cell_type": "code",
   "execution_count": 24,
   "id": "a086a51f-6066-4223-9d46-4f8ad4d5a89e",
   "metadata": {},
   "outputs": [
    {
     "name": "stdout",
     "output_type": "stream",
     "text": [
      "   Customer_ID     Name  Age  Purchase_Amount  Discounted_Price Age_Group\n",
      "0            1    Alice   25              200             180.0     Young\n",
      "1            2      Bob   30              150             135.0     Adult\n",
      "2            2      Bob   30               50              45.0     Adult\n",
      "3            3  Charlie   22              300             270.0     Young\n"
     ]
    }
   ],
   "source": [
    "#Use apply() to apply a function to a column. Let’s say we want to label customers based on their age.\n",
    "\n",
    "def age_group(age):\n",
    "    if age < 30:\n",
    "        return 'Young'\n",
    "    else:\n",
    "        return 'Adult'\n",
    "\n",
    "df_merged['Age_Group'] = df_merged['Age'].apply(age_group)\n",
    "print(df_merged)"
   ]
  },
  {
   "cell_type": "code",
   "execution_count": 31,
   "id": "3c032fca-1394-45b5-9db7-317e6a12f4b1",
   "metadata": {},
   "outputs": [],
   "source": [
    "#In this section, we:\n",
    "\n",
    "#Merged datasets using different join types.\n",
    "#Grouped data and performed aggregations.\n",
    "#Transformed data by adding new columns and applying custom functions."
   ]
  },
  {
   "cell_type": "code",
   "execution_count": null,
   "id": "a6f1ff8e-586f-4ccd-9d41-acf2a91649a2",
   "metadata": {},
   "outputs": [],
   "source": []
  },
  {
   "cell_type": "code",
   "execution_count": null,
   "id": "ccd41387-5aae-4d7a-ab64-51315e443166",
   "metadata": {},
   "outputs": [],
   "source": []
  },
  {
   "cell_type": "code",
   "execution_count": null,
   "id": "191b4ebe-e1a3-427a-a73b-5fec8cd19c7d",
   "metadata": {},
   "outputs": [],
   "source": []
  }
 ],
 "metadata": {
  "kernelspec": {
   "display_name": "Python 3 (ipykernel)",
   "language": "python",
   "name": "python3"
  },
  "language_info": {
   "codemirror_mode": {
    "name": "ipython",
    "version": 3
   },
   "file_extension": ".py",
   "mimetype": "text/x-python",
   "name": "python",
   "nbconvert_exporter": "python",
   "pygments_lexer": "ipython3",
   "version": "3.11.7"
  }
 },
 "nbformat": 4,
 "nbformat_minor": 5
}
