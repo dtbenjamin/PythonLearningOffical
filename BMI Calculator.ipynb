{
 "cells": [
  {
   "cell_type": "code",
   "execution_count": 21,
   "id": "2ad8d282-cee3-47cd-8e7b-757832c13209",
   "metadata": {},
   "outputs": [
    {
     "name": "stdin",
     "output_type": "stream",
     "text": [
      "Enter your name:  daunte\n",
      "Enter your weight in pounds:  170\n",
      "Enter your height in inches:  67\n"
     ]
    },
    {
     "name": "stdout",
     "output_type": "stream",
     "text": [
      "26.62285586990421\n",
      "daunte, you are overweight. Hit the gym\n"
     ]
    }
   ],
   "source": [
    "name = input(\"Enter your name: \")\n",
    "\n",
    "weight = int(input(\"Enter your weight in pounds: \"))\n",
    "\n",
    "height = int(input(\"Enter your height in inches: \"))\n",
    "\n",
    "BMI = (weight * 703) / (height * height)\n",
    "\n",
    "print(BMI)\n",
    "\n",
    "if BMI > 0:\n",
    "    if(BMI<18.5):\n",
    "        print(name+\", you are underweight.\")\n",
    "    elif(BMI<= 24.9):\n",
    "        print(name+\", you are normal weight.\")\n",
    "    elif(BMI<29.9):\n",
    "        print(name+\", you are overweight. Hit the gym\")\n",
    "    elif(BMI<= 34.9):\n",
    "        print(name+\", you are obese.\")\n",
    "    elif(BMI<39.9):\n",
    "        print(name+\", you are severely obese.\")\n",
    "    else:\n",
    "        print(name+\", you are morbidly obese.\")\n",
    "\n",
    "else:\n",
    "    print(\"Enter valid response\")"
   ]
  },
  {
   "cell_type": "code",
   "execution_count": 6,
   "id": "ac87a751-60d0-4c6d-b521-ca6818c43fa8",
   "metadata": {},
   "outputs": [
    {
     "name": "stdout",
     "output_type": "stream",
     "text": [
      "170\n"
     ]
    }
   ],
   "source": []
  },
  {
   "cell_type": "code",
   "execution_count": null,
   "id": "6d7d3337-63b9-41c2-a970-03fa4a0db18e",
   "metadata": {},
   "outputs": [],
   "source": []
  },
  {
   "cell_type": "code",
   "execution_count": null,
   "id": "fcd6f559-c4e1-45c5-8870-43f7143aae2b",
   "metadata": {},
   "outputs": [],
   "source": []
  },
  {
   "cell_type": "code",
   "execution_count": null,
   "id": "8d145ed3-d43c-4fdb-a364-bc0f5a58baad",
   "metadata": {},
   "outputs": [],
   "source": [
    "print(weight)"
   ]
  },
  {
   "cell_type": "code",
   "execution_count": null,
   "id": "7a86e9e0-6067-46be-a2de-f09d355cda6d",
   "metadata": {},
   "outputs": [],
   "source": []
  },
  {
   "cell_type": "code",
   "execution_count": 12,
   "id": "23cd7312-8609-4f34-8d24-9b76821e3c52",
   "metadata": {},
   "outputs": [],
   "source": [
    "#BMI = (weight in pounds x 703) / (height in inches x height in inches)"
   ]
  },
  {
   "cell_type": "code",
   "execution_count": 19,
   "id": "640d3f87-49ba-45ae-ab6e-7785a842116d",
   "metadata": {},
   "outputs": [
    {
     "name": "stdout",
     "output_type": "stream",
     "text": [
      "Daunte, you are overweight.\n"
     ]
    }
   ],
   "source": [
    "if BMI > 0:\n",
    "    if(BMI<18.5):\n",
    "        print(name+\", you are underweight.\")\n",
    "    elif(BMI<= 24.9):\n",
    "        print(name+\", you are normal weight.\")\n",
    "    elif(BMI<29.9):\n",
    "        print(name+\", you are overweight.\")\n",
    "    elif(BMI<= 34.9):\n",
    "        print(name+\", you are obese.\")\n",
    "    elif(BMI<39.9):\n",
    "        print(name+\", you are severely obese.\")\n",
    "    else:\n",
    "        print(name+\", you are morbidly obese.\")\n",
    "\n",
    "else:\n",
    "    print(\"Enter valid response\")\n",
    "    "
   ]
  },
  {
   "cell_type": "code",
   "execution_count": null,
   "id": "0e891bb8-40d4-46ae-ae69-9adce5e73cdd",
   "metadata": {},
   "outputs": [],
   "source": []
  }
 ],
 "metadata": {
  "kernelspec": {
   "display_name": "Python 3 (ipykernel)",
   "language": "python",
   "name": "python3"
  },
  "language_info": {
   "codemirror_mode": {
    "name": "ipython",
    "version": 3
   },
   "file_extension": ".py",
   "mimetype": "text/x-python",
   "name": "python",
   "nbconvert_exporter": "python",
   "pygments_lexer": "ipython3",
   "version": "3.11.7"
  }
 },
 "nbformat": 4,
 "nbformat_minor": 5
}
