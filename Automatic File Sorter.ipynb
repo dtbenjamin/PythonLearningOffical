{
 "cells": [
  {
   "cell_type": "code",
   "execution_count": null,
   "id": "d3863707-9c46-471b-8464-49e16090b085",
   "metadata": {},
   "outputs": [],
   "source": [
    "#Second Python Project"
   ]
  },
  {
   "cell_type": "code",
   "execution_count": null,
   "id": "4cba27bf-2145-4adb-b770-f9b71daa3df7",
   "metadata": {},
   "outputs": [],
   "source": [
    "#https://www.youtube.com/watch?v=gs0FNQR0njI&list=PLUaB-1hjhk8GnKlCG7I-I1tGxiB46SPWA&index=2"
   ]
  },
  {
   "cell_type": "code",
   "execution_count": null,
   "id": "ae0214c7-dc7f-488c-a8a1-e01f7219ce62",
   "metadata": {},
   "outputs": [],
   "source": []
  },
  {
   "cell_type": "code",
   "execution_count": 1,
   "id": "9be3034a-cc7f-4db6-9f4d-bb21eab758e6",
   "metadata": {},
   "outputs": [],
   "source": [
    "import os, shutil"
   ]
  },
  {
   "cell_type": "code",
   "execution_count": 2,
   "id": "8d65ac2d-1d21-49ed-b0a5-431f32ee1d9c",
   "metadata": {},
   "outputs": [],
   "source": [
    "path = r\"C:/Users/BenjamiD/OneDrive - RSandH/Documents/\""
   ]
  },
  {
   "cell_type": "code",
   "execution_count": 20,
   "id": "954da500-41e0-4940-80c2-b40ff4e2612a",
   "metadata": {},
   "outputs": [],
   "source": [
    "file_name = os.listdir(path)"
   ]
  },
  {
   "cell_type": "code",
   "execution_count": 18,
   "id": "ae5afc51-4d82-4444-aff5-b3bdf6fa7bcb",
   "metadata": {},
   "outputs": [
    {
     "name": "stdout",
     "output_type": "stream",
     "text": [
      "C:\\Users\\BenjamiD\\OneDrive - RSandH\\Documents\\cvs files\n",
      "C:\\Users\\BenjamiD\\OneDrive - RSandH\\Documents\\image files\n",
      "C:\\Users\\BenjamiD\\OneDrive - RSandH\\Documents\\text files\n"
     ]
    }
   ],
   "source": [
    "\n",
    "\n",
    "folder_names = ['cvs files', 'image files', 'text files']\n",
    "for i in range(len(folder_names)):\n",
    "    folder_path = os.path.join(path, folder_names[i])\n",
    "    if not os.path.exists(folder_path):\n",
    "        print(folder_path)\n",
    "        os.makedirs(folder_path)\n"
   ]
  },
  {
   "cell_type": "code",
   "execution_count": 25,
   "id": "698af265-c0d7-406b-b62d-f5fd7ffcf06f",
   "metadata": {},
   "outputs": [],
   "source": [
    "\n",
    "\n",
    "for file in file_name:\n",
    "    if \".xlsx\" in file and not os.path.exists(os.path.join(folder_path, file)):\n",
    "        shutil.move(os.path.join(path, file), os.path.join(folder_path, file))\n"
   ]
  },
  {
   "cell_type": "code",
   "execution_count": 1,
   "id": "d99d4d36-e114-4ac4-b70f-3b6cc868ab85",
   "metadata": {},
   "outputs": [],
   "source": [
    "#GitHub#"
   ]
  },
  {
   "cell_type": "code",
   "execution_count": 2,
   "id": "4c0925c2-f581-4541-8669-7445e9ca0c62",
   "metadata": {},
   "outputs": [],
   "source": [
    "import pandas as pd\n"
   ]
  },
  {
   "cell_type": "code",
   "execution_count": null,
   "id": "47aea67f-a9e5-4e31-b393-f77fc716ce07",
   "metadata": {},
   "outputs": [],
   "source": []
  }
 ],
 "metadata": {
  "kernelspec": {
   "display_name": "Python 3 (ipykernel)",
   "language": "python",
   "name": "python3"
  },
  "language_info": {
   "codemirror_mode": {
    "name": "ipython",
    "version": 3
   },
   "file_extension": ".py",
   "mimetype": "text/x-python",
   "name": "python",
   "nbconvert_exporter": "python",
   "pygments_lexer": "ipython3",
   "version": "3.11.7"
  }
 },
 "nbformat": 4,
 "nbformat_minor": 5
}
