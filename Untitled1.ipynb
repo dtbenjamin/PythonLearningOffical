{
 "cells": [
  {
   "cell_type": "code",
   "execution_count": 1,
   "id": "b54e76db-2936-4ef7-8b11-ac19a5f54724",
   "metadata": {},
   "outputs": [
    {
     "data": {
      "text/plain": [
       "int"
      ]
     },
     "execution_count": 1,
     "metadata": {},
     "output_type": "execute_result"
    }
   ],
   "source": [
    "num_int = 7\n",
    "type(num_int)"
   ]
  },
  {
   "cell_type": "code",
   "execution_count": 2,
   "id": "2546367d-2deb-429d-8dd5-1fff74d0056b",
   "metadata": {},
   "outputs": [
    {
     "data": {
      "text/plain": [
       "str"
      ]
     },
     "execution_count": 2,
     "metadata": {},
     "output_type": "execute_result"
    }
   ],
   "source": [
    "num_int = '7'\n",
    "type(num_int)"
   ]
  },
  {
   "cell_type": "code",
   "execution_count": 5,
   "id": "c63bcf53-ef2c-48b4-b88c-86c1479dd5fc",
   "metadata": {},
   "outputs": [
    {
     "data": {
      "text/plain": [
       "int"
      ]
     },
     "execution_count": 5,
     "metadata": {},
     "output_type": "execute_result"
    }
   ],
   "source": [
    "num_conv = int(num_int)\n",
    "type(num_conv)\n"
   ]
  },
  {
   "cell_type": "code",
   "execution_count": null,
   "id": "33785b25-9e50-4f7d-afa9-618a40e84495",
   "metadata": {},
   "outputs": [],
   "source": []
  },
  {
   "cell_type": "code",
   "execution_count": null,
   "id": "e51f0572-5843-4c93-8024-7459d5f4fbf0",
   "metadata": {},
   "outputs": [],
   "source": []
  }
 ],
 "metadata": {
  "kernelspec": {
   "display_name": "Python 3 (ipykernel)",
   "language": "python",
   "name": "python3"
  },
  "language_info": {
   "codemirror_mode": {
    "name": "ipython",
    "version": 3
   },
   "file_extension": ".py",
   "mimetype": "text/x-python",
   "name": "python",
   "nbconvert_exporter": "python",
   "pygments_lexer": "ipython3",
   "version": "3.11.7"
  }
 },
 "nbformat": 4,
 "nbformat_minor": 5
}
